{
 "cells": [
  {
   "cell_type": "markdown",
   "metadata": {},
   "source": [
    "## Task 1 Reading in data"
   ]
  },
  {
   "cell_type": "markdown",
   "metadata": {},
   "source": [
    "The first step in analysing any unfamiliar data is to read it into memory and find out some information about its structure.\n",
    "Using the `20190415_084119_bst_00X.dat` bst file in the data folder complete/answer the following:\n",
    "* Read BST file it into memory. (Hint, `numpy` makes things easy)\n",
    "* How many data points are there?\n",
    "* What is the bitmode? i.e. How do the number of data points compare to the file size?\n",
    "* How many subbands were observed? (Hint, need to know bitmode of observation)\n",
    "* How long was the observation?\n",
    "\n",
    "Compare your answers to the values in the recording script: `solar_mode3.sh`\n"
   ]
  },
  {
   "cell_type": "code",
   "execution_count": null,
   "metadata": {},
   "outputs": [],
   "source": [
    "import os\n",
    "\n",
    "import astropy.units as u\n",
    "import matplotlib.pyplot as plt\n",
    "import numpy as np\n",
    "\n",
    "from astropy.time import Time, TimeDelta\n",
    "from matplotlib import dates\n",
    "\n",
    "\n",
    "#Read in data"
   ]
  },
  {
   "cell_type": "markdown",
   "metadata": {},
   "source": [
    "## Task 2 Reshaping data"
   ]
  },
  {
   "cell_type": "markdown",
   "metadata": {},
   "source": [
    "BST data is 2 dimensional, time and frequency. Using what we learned above reshape the data so that it is a 2D array with time on one axis and frequency on another."
   ]
  },
  {
   "cell_type": "code",
   "execution_count": null,
   "metadata": {},
   "outputs": [],
   "source": [
    "#Reshape data"
   ]
  },
  {
   "cell_type": "markdown",
   "metadata": {},
   "source": [
    "## Task 3 Quick plot"
   ]
  },
  {
   "cell_type": "markdown",
   "metadata": {},
   "source": [
    "We now have everything we need to make a quick plot of our data.\n",
    "\n",
    "* Use `matplotlib` to produce a dynamic spectrum. Make sure to have time on the x-axis.\n",
    "* What \"mode\" was this observation made in? (Hint, log your data)\n",
    "* Play around with vmin and vmax.\n",
    "* Do all subbands contain data? If not, how many empty subbands are there?"
   ]
  },
  {
   "cell_type": "code",
   "execution_count": null,
   "metadata": {},
   "outputs": [],
   "source": [
    "#plt.imshow(...)"
   ]
  },
  {
   "cell_type": "markdown",
   "metadata": {},
   "source": [
    "## Task 4 Updating axes"
   ]
  },
  {
   "cell_type": "markdown",
   "metadata": {},
   "source": [
    "Let's convert subband number to frequency and include the actual time for our axes.\n",
    "\n",
    "Remember the conversion from subband number to frequency from earlier\n",
    "\n",
    "$$\\nu = (n-1+ \\frac{s}{512})\\frac{\\nu_{clock}}{2},$$\n",
    "\n",
    "where $n$ is the nyquist zone, $s$ is the subband number and $\\nu_{clock}$ is the clock frequency.\n",
    "\n",
    "In this example $n=1$ and $\\nu_{clock} = 200$ MHz.\n",
    "\n",
    "* For this observation subbands 51 to 450 were used (found from `solar_mode3.sh`.\n",
    "* Write a function to convert subband number to frequency.\n",
    "* Using the timestamp in the BST file name, create an array of datetime objects for the time array.\n",
    "* Replot the data with the correct frequency and time axis."
   ]
  },
  {
   "cell_type": "code",
   "execution_count": null,
   "metadata": {},
   "outputs": [],
   "source": [
    "#use Time.strptime or your favourite library to create datetime objects from a string"
   ]
  },
  {
   "cell_type": "markdown",
   "metadata": {},
   "source": [
    "## Task 5 Remove background"
   ]
  },
  {
   "cell_type": "markdown",
   "metadata": {},
   "source": [
    "How would you remove the effect of the antenna bandpass filter?\n"
   ]
  },
  {
   "cell_type": "markdown",
   "metadata": {
    "pycharm": {
     "name": "#%% md\n"
    }
   },
   "source": [
    "## Task 6 Plotting Mode 357 data"
   ]
  },
  {
   "cell_type": "markdown",
   "metadata": {},
   "source": [
    "Now try and repeat the above for the `20170910_070804_bst_00X.dat` bst file, which was recorded in mode 357.\n",
    "Remember that the subbands in mode 357 are not sequential and are in different \"Nyquist Zones\"\n",
    "\n",
    "|     Mode     |         3        |         5        |         7        |\n",
    "|:------------:|:----------------:|:----------------:|:----------------:|\n",
    "|   Subbands   | 54, 56, 58...452 | 54, 56, 58...452 | 54, 56, 58...228 |\n",
    "| Nyquist Zone |         1        |         2        |         3        |\n"
   ]
  }
 ],
 "metadata": {
  "kernelspec": {
   "display_name": "Python 3",
   "language": "python",
   "name": "python3"
  },
  "language_info": {
   "codemirror_mode": {
    "name": "ipython",
    "version": 3
   },
   "file_extension": ".py",
   "mimetype": "text/x-python",
   "name": "python",
   "nbconvert_exporter": "python",
   "pygments_lexer": "ipython3",
   "version": "3.9.5"
  }
 },
 "nbformat": 4,
 "nbformat_minor": 2
}